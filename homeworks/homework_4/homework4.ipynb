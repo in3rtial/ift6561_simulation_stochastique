{
 "metadata": {
  "name": "",
  "signature": "sha256:4d0076a8282320a311c484090019257180b38db6910f8e574296b8fd117fcd67"
 },
 "nbformat": 3,
 "nbformat_minor": 0,
 "worksheets": [
  {
   "cells": [
    {
     "cell_type": "markdown",
     "metadata": {},
     "source": [
      "# Homework 4\n",
      "## IFT6561\n",
      "## Gabriel C-Parent C5912\n",
      "\n",
      "\n",
      "\n",
      "\n",
      "*(a) In Example 4.2, explain in detail how to generate from the sampling density $g$ that corresponds to the hat function $h$ of Figure 4.2, by inversion.*\n",
      "\n",
      "\n",
      "**The rejection method**\n",
      "\n",
      "So, let's restate the idea:\n",
      "\n",
      "We need to generate a variable X under the density $f$\n",
      "\n",
      "$$S(f) = \\{ (x, y) \\in \\mathbb{R}^2 : 0 \\leq y \\leq f(x) \\}$$\n",
      "\n",
      "**Proposition 4.1**\n",
      "\n",
      "$(X,Y)$ is a random point uniformly distributed in $S(f)$, then\n",
      "$X$ has density $f$.\n",
      "\n",
      "if $X$ has density $f$ and the conditional distribution of $Y$ given $X$ is $U(0, f(X))$, $(X,Y)$ is uniformly distribution over $S(f)$.\n",
      "\n",
      "\n",
      "The goal therefore is to generate $(X, Y)$ uniformly in $S(f)$.\n",
      "\n",
      "\n",
      "**The idea**\n",
      "The trick to achieve that is to generate $(X,Y)$ in a space that encloses S(f) and check if $(X, Y) \\in S(f)$. If it does belong, then\n",
      "we return it as a random point of the density $S(f)$, otherwise we try again.\n",
      "\n",
      "\n",
      "**The problem**\n",
      "So if the enclosing space is huge in relation to the volume of $S(f)$, it would be expected that very few points actually land in $S(f)$ and therefore most of the randomly generate points are lost.\n",
      "\n",
      "Therefore, depending on the shape of the enclosing space and $S(f)$, this procedure can become extremely wasteful or work pretty well.\n",
      "\n",
      "\n",
      "**The hat function trick (majoring function)**\n",
      "The idea is to scale a know density function $g$ over $S(f)$ from which the sampling\n",
      "is done\n",
      "\n",
      "$$f(x) \\leq ag(x)$$\n",
      "\n",
      "\n",
      "\n",
      "\n",
      "\n",
      "\n",
      "\n",
      "\n",
      "\n",
      "$$ \\frac {\\delta L} {\\delta j} $$"
     ]
    },
    {
     "cell_type": "markdown",
     "metadata": {},
     "source": []
    },
    {
     "cell_type": "markdown",
     "metadata": {},
     "source": []
    },
    {
     "cell_type": "markdown",
     "metadata": {},
     "source": []
    },
    {
     "cell_type": "markdown",
     "metadata": {},
     "source": []
    },
    {
     "cell_type": "markdown",
     "metadata": {},
     "source": []
    },
    {
     "cell_type": "markdown",
     "metadata": {},
     "source": []
    }
   ],
   "metadata": {}
  }
 ]
}